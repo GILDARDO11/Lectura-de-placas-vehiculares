{
 "cells": [
  {
   "cell_type": "markdown",
   "metadata": {},
   "source": [
    "# Codigo para la generacion de las Matriculas Colombiana\n",
    "## Creacion de bases de datos\n",
    "En este segmento de algoritmo se crea la base de datos y consecutivamente se generan las matriculas de los automoviles.\n",
    "*   Bryan Castro Lugo 2420171011\n",
    "*   Gildardo Hernandez Palma 2420171024\n",
    "\n"
   ]
  },
  {
   "cell_type": "code",
   "execution_count": 1,
   "metadata": {
    "colab": {
     "base_uri": "https://localhost:8080/"
    },
    "id": "lX1t__fhn4wu",
    "outputId": "85933ec3-9626-4978-c766-c8a2daa3f4d6"
   },
   "outputs": [
    {
     "name": "stdout",
     "output_type": "stream",
     "text": [
      "Requirement already satisfied: opencv-python in /home/bryanc/anaconda3/lib/python3.8/site-packages (4.5.1.48)\n",
      "Requirement already satisfied: numpy>=1.17.3 in /home/bryanc/anaconda3/lib/python3.8/site-packages (from opencv-python) (1.19.2)\n",
      "Requirement already satisfied: requests in /home/bryanc/anaconda3/lib/python3.8/site-packages (2.25.1)\n",
      "Requirement already satisfied: urllib3<1.27,>=1.21.1 in /home/bryanc/anaconda3/lib/python3.8/site-packages (from requests) (1.26.4)\n",
      "Requirement already satisfied: idna<3,>=2.5 in /home/bryanc/anaconda3/lib/python3.8/site-packages (from requests) (2.10)\n",
      "Requirement already satisfied: certifi>=2017.4.17 in /home/bryanc/anaconda3/lib/python3.8/site-packages (from requests) (2020.12.5)\n",
      "Requirement already satisfied: chardet<5,>=3.0.2 in /home/bryanc/anaconda3/lib/python3.8/site-packages (from requests) (4.0.0)\n",
      "Requirement already satisfied: tensorflow in /home/bryanc/anaconda3/lib/python3.8/site-packages (2.4.1)\n",
      "Requirement already satisfied: opt-einsum~=3.3.0 in /home/bryanc/anaconda3/lib/python3.8/site-packages (from tensorflow) (3.3.0)\n",
      "Requirement already satisfied: absl-py~=0.10 in /home/bryanc/anaconda3/lib/python3.8/site-packages (from tensorflow) (0.12.0)\n",
      "Requirement already satisfied: protobuf>=3.9.2 in /home/bryanc/anaconda3/lib/python3.8/site-packages (from tensorflow) (3.15.8)\n",
      "Requirement already satisfied: flatbuffers~=1.12.0 in /home/bryanc/anaconda3/lib/python3.8/site-packages (from tensorflow) (1.12)\n",
      "Requirement already satisfied: gast==0.3.3 in /home/bryanc/anaconda3/lib/python3.8/site-packages (from tensorflow) (0.3.3)\n",
      "Requirement already satisfied: tensorboard~=2.4 in /home/bryanc/anaconda3/lib/python3.8/site-packages (from tensorflow) (2.5.0)\n",
      "Requirement already satisfied: typing-extensions~=3.7.4 in /home/bryanc/anaconda3/lib/python3.8/site-packages (from tensorflow) (3.7.4.3)\n",
      "Requirement already satisfied: six~=1.15.0 in /home/bryanc/anaconda3/lib/python3.8/site-packages (from tensorflow) (1.15.0)\n",
      "Requirement already satisfied: grpcio~=1.32.0 in /home/bryanc/anaconda3/lib/python3.8/site-packages (from tensorflow) (1.32.0)\n",
      "Requirement already satisfied: h5py~=2.10.0 in /home/bryanc/anaconda3/lib/python3.8/site-packages (from tensorflow) (2.10.0)\n",
      "Requirement already satisfied: wheel~=0.35 in /home/bryanc/anaconda3/lib/python3.8/site-packages (from tensorflow) (0.36.2)\n",
      "Requirement already satisfied: tensorflow-estimator<2.5.0,>=2.4.0 in /home/bryanc/anaconda3/lib/python3.8/site-packages (from tensorflow) (2.4.0)\n",
      "Requirement already satisfied: wrapt~=1.12.1 in /home/bryanc/anaconda3/lib/python3.8/site-packages (from tensorflow) (1.12.1)\n",
      "Requirement already satisfied: google-pasta~=0.2 in /home/bryanc/anaconda3/lib/python3.8/site-packages (from tensorflow) (0.2.0)\n",
      "Requirement already satisfied: keras-preprocessing~=1.1.2 in /home/bryanc/anaconda3/lib/python3.8/site-packages (from tensorflow) (1.1.2)\n",
      "Requirement already satisfied: astunparse~=1.6.3 in /home/bryanc/anaconda3/lib/python3.8/site-packages (from tensorflow) (1.6.3)\n",
      "Requirement already satisfied: termcolor~=1.1.0 in /home/bryanc/anaconda3/lib/python3.8/site-packages (from tensorflow) (1.1.0)\n",
      "Requirement already satisfied: numpy~=1.19.2 in /home/bryanc/anaconda3/lib/python3.8/site-packages (from tensorflow) (1.19.2)\n",
      "Requirement already satisfied: setuptools>=41.0.0 in /home/bryanc/anaconda3/lib/python3.8/site-packages (from tensorboard~=2.4->tensorflow) (52.0.0.post20210125)\n",
      "Requirement already satisfied: google-auth-oauthlib<0.5,>=0.4.1 in /home/bryanc/anaconda3/lib/python3.8/site-packages (from tensorboard~=2.4->tensorflow) (0.4.4)\n",
      "Requirement already satisfied: google-auth<2,>=1.6.3 in /home/bryanc/anaconda3/lib/python3.8/site-packages (from tensorboard~=2.4->tensorflow) (1.30.0)\n",
      "Requirement already satisfied: markdown>=2.6.8 in /home/bryanc/anaconda3/lib/python3.8/site-packages (from tensorboard~=2.4->tensorflow) (3.3.4)\n",
      "Requirement already satisfied: requests<3,>=2.21.0 in /home/bryanc/anaconda3/lib/python3.8/site-packages (from tensorboard~=2.4->tensorflow) (2.25.1)\n",
      "Requirement already satisfied: werkzeug>=0.11.15 in /home/bryanc/anaconda3/lib/python3.8/site-packages (from tensorboard~=2.4->tensorflow) (1.0.1)\n",
      "Requirement already satisfied: tensorboard-plugin-wit>=1.6.0 in /home/bryanc/anaconda3/lib/python3.8/site-packages (from tensorboard~=2.4->tensorflow) (1.8.0)\n",
      "Requirement already satisfied: tensorboard-data-server<0.7.0,>=0.6.0 in /home/bryanc/anaconda3/lib/python3.8/site-packages (from tensorboard~=2.4->tensorflow) (0.6.0)\n",
      "Requirement already satisfied: rsa<5,>=3.1.4 in /home/bryanc/anaconda3/lib/python3.8/site-packages (from google-auth<2,>=1.6.3->tensorboard~=2.4->tensorflow) (4.7.2)\n",
      "Requirement already satisfied: pyasn1-modules>=0.2.1 in /home/bryanc/anaconda3/lib/python3.8/site-packages (from google-auth<2,>=1.6.3->tensorboard~=2.4->tensorflow) (0.2.8)\n",
      "Requirement already satisfied: cachetools<5.0,>=2.0.0 in /home/bryanc/anaconda3/lib/python3.8/site-packages (from google-auth<2,>=1.6.3->tensorboard~=2.4->tensorflow) (4.2.2)\n",
      "Requirement already satisfied: requests-oauthlib>=0.7.0 in /home/bryanc/anaconda3/lib/python3.8/site-packages (from google-auth-oauthlib<0.5,>=0.4.1->tensorboard~=2.4->tensorflow) (1.3.0)\n",
      "Requirement already satisfied: pyasn1<0.5.0,>=0.4.6 in /home/bryanc/anaconda3/lib/python3.8/site-packages (from pyasn1-modules>=0.2.1->google-auth<2,>=1.6.3->tensorboard~=2.4->tensorflow) (0.4.8)\n",
      "Requirement already satisfied: certifi>=2017.4.17 in /home/bryanc/anaconda3/lib/python3.8/site-packages (from requests<3,>=2.21.0->tensorboard~=2.4->tensorflow) (2020.12.5)\n",
      "Requirement already satisfied: idna<3,>=2.5 in /home/bryanc/anaconda3/lib/python3.8/site-packages (from requests<3,>=2.21.0->tensorboard~=2.4->tensorflow) (2.10)\n",
      "Requirement already satisfied: urllib3<1.27,>=1.21.1 in /home/bryanc/anaconda3/lib/python3.8/site-packages (from requests<3,>=2.21.0->tensorboard~=2.4->tensorflow) (1.26.4)\n",
      "Requirement already satisfied: chardet<5,>=3.0.2 in /home/bryanc/anaconda3/lib/python3.8/site-packages (from requests<3,>=2.21.0->tensorboard~=2.4->tensorflow) (4.0.0)\n",
      "Requirement already satisfied: oauthlib>=3.0.0 in /home/bryanc/anaconda3/lib/python3.8/site-packages (from requests-oauthlib>=0.7.0->google-auth-oauthlib<0.5,>=0.4.1->tensorboard~=2.4->tensorflow) (3.1.0)\n",
      "Requirement already satisfied: unidecode in /home/bryanc/anaconda3/lib/python3.8/site-packages (1.2.0)\n"
     ]
    }
   ],
   "source": [
    "## Código final\n",
    "\n",
    "!pip install opencv-python\n",
    "!pip install requests\n",
    "!pip install tensorflow\n",
    "!pip install unidecode\n",
    "\n",
    "from skimage import io # Libreria para cargar imagenes desde URLs\n",
    "import random\n",
    "import requests\n",
    "import cv2\n",
    "import pandas as pd\n",
    "from unidecode import unidecode\n",
    "import matplotlib.pyplot as plt\n",
    "import numpy as np\n",
    "import imageio as io\n",
    "import os\n",
    "from sklearn.neural_network import MLPClassifier\n",
    "\n",
    "def Gen_placa():\n",
    "    letra = ['A','B','C','D','E','F','G','H','I','J','K','L','M','N','O','P','Q','R','S','T','U','V','W','X','Y','Z']\n",
    "    rl1 = random.randint(0,25)\n",
    "    rl2 = random.randint(0,25)\n",
    "    rl3 = random.randint(0,25)\n",
    "    num1 = random.randint(0,9)\n",
    "    num2 = random.randint(0,9)\n",
    "    num3 = random.randint(0,9)\n",
    "    String_placa = letra[rl1]+letra[rl2]+letra[rl3]+str( num1)+str(num2)+str(num3)\n",
    "    Vector_placa = [rl1,rl2,rl3,num1,num2,num3]\n",
    "    return String_placa,Vector_placa#R_ciudad.upper()\n",
    "\n",
    "def proto_base(longitud):\n",
    "    i = 0\n",
    "    VSplacas = []\n",
    "    VNplacas = []\n",
    "    for i in range(longitud):\n",
    "        placa,vplaca = Gen_placa()\n",
    "        VSplacas.append(placa)\n",
    "        VNplacas.append(vplaca)\n",
    "    return VSplacas,VNplacas\n",
    "\n",
    "def gen_datos(numero_datos,tipo): #1 entrena, 0 testing\n",
    "  if tipo == 1:\n",
    "    carpeta = \"training\"\n",
    "  else:\n",
    "    carpeta = \"testing\"\n",
    "  placas,vector = proto_base(numero_datos)\n",
    "  bw = []\n",
    "\n",
    "  for i in range(numero_datos):\n",
    "    url_imagen = \"https://matriculasdelmundo.com/gCOL1.php?textCOL1=\"+placas[i]+\"&textCOL10=\"+\"Ibague\"#ciudad[i] # \n",
    "    nombre_local_imagen = carpeta+\"/\"+str(i)+\".jpg\"# El nombre con el que queremos guardarla\n",
    "    imagen = requests.get(url_imagen).content #Imagen en bytes\n",
    "    open(nombre_local_imagen, 'wb').write(imagen)\n",
    "    #image = cv2.imread(carpeta+\"/\"+str(i)+\".jpg\",0) #gris\n",
    "    image = cv2.imread(carpeta+\"/\"+str(i)+\".jpg\") #a color\n",
    "    image_gray = cv2.cvtColor(image, cv2.COLOR_BGR2GRAY)\n",
    "    image_borde = cv2.Canny(image_gray, 50, 150)\n",
    "    bw.append(image_borde)\n",
    "  return placas,vector,bw\n",
    "  #cv2.imwrite(\"imgris.jpg\", image)"
   ]
  },
  {
   "cell_type": "code",
   "execution_count": 2,
   "metadata": {
    "colab": {
     "base_uri": "https://localhost:8080/"
    },
    "id": "aNrQEy9YeLSI",
    "outputId": "28d173e8-9c6c-4c4f-b937-f46ffcc3329a"
   },
   "outputs": [
    {
     "name": "stdout",
     "output_type": "stream",
     "text": [
      "CPU times: user 28.1 s, sys: 8.16 s, total: 36.3 s\n",
      "Wall time: 16min 18s\n"
     ]
    }
   ],
   "source": [
    "%time train_placa,train_Nplaca,train_bw = gen_datos(1000,1)"
   ]
  },
  {
   "cell_type": "code",
   "execution_count": 3,
   "metadata": {
    "colab": {
     "base_uri": "https://localhost:8080/"
    },
    "id": "sbXinTUGE-oK",
    "outputId": "59790cf0-5993-405e-87a0-8c36cded9540"
   },
   "outputs": [
    {
     "name": "stdout",
     "output_type": "stream",
     "text": [
      "CPU times: user 8.57 s, sys: 2.41 s, total: 11 s\n",
      "Wall time: 4min 48s\n"
     ]
    }
   ],
   "source": [
    "%time test_placa,test_Nplaca,test_bw = gen_datos(300,0)"
   ]
  },
  {
   "cell_type": "code",
   "execution_count": 17,
   "metadata": {},
   "outputs": [
    {
     "data": {
      "text/html": [
       "<div>\n",
       "<style scoped>\n",
       "    .dataframe tbody tr th:only-of-type {\n",
       "        vertical-align: middle;\n",
       "    }\n",
       "\n",
       "    .dataframe tbody tr th {\n",
       "        vertical-align: top;\n",
       "    }\n",
       "\n",
       "    .dataframe thead th {\n",
       "        text-align: right;\n",
       "    }\n",
       "</style>\n",
       "<table border=\"1\" class=\"dataframe\">\n",
       "  <thead>\n",
       "    <tr style=\"text-align: right;\">\n",
       "      <th></th>\n",
       "      <th>L1</th>\n",
       "      <th>L2</th>\n",
       "      <th>L3</th>\n",
       "      <th>N1</th>\n",
       "      <th>N2</th>\n",
       "      <th>N3</th>\n",
       "    </tr>\n",
       "  </thead>\n",
       "  <tbody>\n",
       "    <tr>\n",
       "      <th>0</th>\n",
       "      <td>4</td>\n",
       "      <td>10</td>\n",
       "      <td>0</td>\n",
       "      <td>2</td>\n",
       "      <td>7</td>\n",
       "      <td>3</td>\n",
       "    </tr>\n",
       "    <tr>\n",
       "      <th>1</th>\n",
       "      <td>1</td>\n",
       "      <td>6</td>\n",
       "      <td>19</td>\n",
       "      <td>4</td>\n",
       "      <td>3</td>\n",
       "      <td>0</td>\n",
       "    </tr>\n",
       "    <tr>\n",
       "      <th>2</th>\n",
       "      <td>18</td>\n",
       "      <td>14</td>\n",
       "      <td>14</td>\n",
       "      <td>0</td>\n",
       "      <td>3</td>\n",
       "      <td>5</td>\n",
       "    </tr>\n",
       "    <tr>\n",
       "      <th>3</th>\n",
       "      <td>22</td>\n",
       "      <td>0</td>\n",
       "      <td>20</td>\n",
       "      <td>6</td>\n",
       "      <td>0</td>\n",
       "      <td>4</td>\n",
       "    </tr>\n",
       "    <tr>\n",
       "      <th>4</th>\n",
       "      <td>16</td>\n",
       "      <td>25</td>\n",
       "      <td>0</td>\n",
       "      <td>6</td>\n",
       "      <td>8</td>\n",
       "      <td>8</td>\n",
       "    </tr>\n",
       "  </tbody>\n",
       "</table>\n",
       "</div>"
      ],
      "text/plain": [
       "   L1  L2  L3  N1  N2  N3\n",
       "0   4  10   0   2   7   3\n",
       "1   1   6  19   4   3   0\n",
       "2  18  14  14   0   3   5\n",
       "3  22   0  20   6   0   4\n",
       "4  16  25   0   6   8   8"
      ]
     },
     "execution_count": 17,
     "metadata": {},
     "output_type": "execute_result"
    }
   ],
   "source": [
    "letra = ['A','B','C','D','E','F','G','H','I','J','K','L','M','N','O','P','Q','R','S','T','U','V','W','X','Y','Z']\n",
    "placas_train = pd.DataFrame(train_Nplaca,columns = [\"L1\",\"L2\",\"L3\",\"N1\",\"N2\",\"N3\"])\n",
    "placas_train.head()"
   ]
  },
  {
   "cell_type": "code",
   "execution_count": 20,
   "metadata": {},
   "outputs": [
    {
     "data": {
      "text/html": [
       "<div>\n",
       "<style scoped>\n",
       "    .dataframe tbody tr th:only-of-type {\n",
       "        vertical-align: middle;\n",
       "    }\n",
       "\n",
       "    .dataframe tbody tr th {\n",
       "        vertical-align: top;\n",
       "    }\n",
       "\n",
       "    .dataframe thead th {\n",
       "        text-align: right;\n",
       "    }\n",
       "</style>\n",
       "<table border=\"1\" class=\"dataframe\">\n",
       "  <thead>\n",
       "    <tr style=\"text-align: right;\">\n",
       "      <th></th>\n",
       "      <th>L1</th>\n",
       "      <th>L2</th>\n",
       "      <th>L3</th>\n",
       "      <th>N1</th>\n",
       "      <th>N2</th>\n",
       "      <th>N3</th>\n",
       "      <th>PLACA</th>\n",
       "    </tr>\n",
       "  </thead>\n",
       "  <tbody>\n",
       "    <tr>\n",
       "      <th>0</th>\n",
       "      <td>4</td>\n",
       "      <td>10</td>\n",
       "      <td>0</td>\n",
       "      <td>2</td>\n",
       "      <td>7</td>\n",
       "      <td>3</td>\n",
       "      <td>EKA273</td>\n",
       "    </tr>\n",
       "    <tr>\n",
       "      <th>1</th>\n",
       "      <td>1</td>\n",
       "      <td>6</td>\n",
       "      <td>19</td>\n",
       "      <td>4</td>\n",
       "      <td>3</td>\n",
       "      <td>0</td>\n",
       "      <td>BGT430</td>\n",
       "    </tr>\n",
       "    <tr>\n",
       "      <th>2</th>\n",
       "      <td>18</td>\n",
       "      <td>14</td>\n",
       "      <td>14</td>\n",
       "      <td>0</td>\n",
       "      <td>3</td>\n",
       "      <td>5</td>\n",
       "      <td>SOO035</td>\n",
       "    </tr>\n",
       "    <tr>\n",
       "      <th>3</th>\n",
       "      <td>22</td>\n",
       "      <td>0</td>\n",
       "      <td>20</td>\n",
       "      <td>6</td>\n",
       "      <td>0</td>\n",
       "      <td>4</td>\n",
       "      <td>WAU604</td>\n",
       "    </tr>\n",
       "    <tr>\n",
       "      <th>4</th>\n",
       "      <td>16</td>\n",
       "      <td>25</td>\n",
       "      <td>0</td>\n",
       "      <td>6</td>\n",
       "      <td>8</td>\n",
       "      <td>8</td>\n",
       "      <td>QZA688</td>\n",
       "    </tr>\n",
       "  </tbody>\n",
       "</table>\n",
       "</div>"
      ],
      "text/plain": [
       "   L1  L2  L3  N1  N2  N3   PLACA\n",
       "0   4  10   0   2   7   3  EKA273\n",
       "1   1   6  19   4   3   0  BGT430\n",
       "2  18  14  14   0   3   5  SOO035\n",
       "3  22   0  20   6   0   4  WAU604\n",
       "4  16  25   0   6   8   8  QZA688"
      ]
     },
     "execution_count": 20,
     "metadata": {},
     "output_type": "execute_result"
    }
   ],
   "source": [
    "placas_train[\"PLACA\"]  = pd.DataFrame(train_placa)\n",
    "placas_train.head()"
   ]
  },
  {
   "cell_type": "code",
   "execution_count": 21,
   "metadata": {},
   "outputs": [
    {
     "data": {
      "text/html": [
       "<div>\n",
       "<style scoped>\n",
       "    .dataframe tbody tr th:only-of-type {\n",
       "        vertical-align: middle;\n",
       "    }\n",
       "\n",
       "    .dataframe tbody tr th {\n",
       "        vertical-align: top;\n",
       "    }\n",
       "\n",
       "    .dataframe thead th {\n",
       "        text-align: right;\n",
       "    }\n",
       "</style>\n",
       "<table border=\"1\" class=\"dataframe\">\n",
       "  <thead>\n",
       "    <tr style=\"text-align: right;\">\n",
       "      <th></th>\n",
       "      <th>L1</th>\n",
       "      <th>L2</th>\n",
       "      <th>L3</th>\n",
       "      <th>N1</th>\n",
       "      <th>N2</th>\n",
       "      <th>N3</th>\n",
       "    </tr>\n",
       "  </thead>\n",
       "  <tbody>\n",
       "    <tr>\n",
       "      <th>0</th>\n",
       "      <td>8</td>\n",
       "      <td>23</td>\n",
       "      <td>0</td>\n",
       "      <td>2</td>\n",
       "      <td>1</td>\n",
       "      <td>1</td>\n",
       "    </tr>\n",
       "    <tr>\n",
       "      <th>1</th>\n",
       "      <td>15</td>\n",
       "      <td>17</td>\n",
       "      <td>9</td>\n",
       "      <td>7</td>\n",
       "      <td>7</td>\n",
       "      <td>8</td>\n",
       "    </tr>\n",
       "    <tr>\n",
       "      <th>2</th>\n",
       "      <td>7</td>\n",
       "      <td>14</td>\n",
       "      <td>22</td>\n",
       "      <td>1</td>\n",
       "      <td>6</td>\n",
       "      <td>7</td>\n",
       "    </tr>\n",
       "    <tr>\n",
       "      <th>3</th>\n",
       "      <td>20</td>\n",
       "      <td>16</td>\n",
       "      <td>18</td>\n",
       "      <td>4</td>\n",
       "      <td>2</td>\n",
       "      <td>1</td>\n",
       "    </tr>\n",
       "    <tr>\n",
       "      <th>4</th>\n",
       "      <td>4</td>\n",
       "      <td>13</td>\n",
       "      <td>5</td>\n",
       "      <td>4</td>\n",
       "      <td>0</td>\n",
       "      <td>8</td>\n",
       "    </tr>\n",
       "  </tbody>\n",
       "</table>\n",
       "</div>"
      ],
      "text/plain": [
       "   L1  L2  L3  N1  N2  N3\n",
       "0   8  23   0   2   1   1\n",
       "1  15  17   9   7   7   8\n",
       "2   7  14  22   1   6   7\n",
       "3  20  16  18   4   2   1\n",
       "4   4  13   5   4   0   8"
      ]
     },
     "execution_count": 21,
     "metadata": {},
     "output_type": "execute_result"
    }
   ],
   "source": [
    "placas_test = pd.DataFrame(test_Nplaca,columns = [\"L1\",\"L2\",\"L3\",\"N1\",\"N2\",\"N3\"])\n",
    "placas_test.head()"
   ]
  },
  {
   "cell_type": "code",
   "execution_count": 22,
   "metadata": {},
   "outputs": [
    {
     "data": {
      "text/html": [
       "<div>\n",
       "<style scoped>\n",
       "    .dataframe tbody tr th:only-of-type {\n",
       "        vertical-align: middle;\n",
       "    }\n",
       "\n",
       "    .dataframe tbody tr th {\n",
       "        vertical-align: top;\n",
       "    }\n",
       "\n",
       "    .dataframe thead th {\n",
       "        text-align: right;\n",
       "    }\n",
       "</style>\n",
       "<table border=\"1\" class=\"dataframe\">\n",
       "  <thead>\n",
       "    <tr style=\"text-align: right;\">\n",
       "      <th></th>\n",
       "      <th>L1</th>\n",
       "      <th>L2</th>\n",
       "      <th>L3</th>\n",
       "      <th>N1</th>\n",
       "      <th>N2</th>\n",
       "      <th>N3</th>\n",
       "      <th>PLACA</th>\n",
       "    </tr>\n",
       "  </thead>\n",
       "  <tbody>\n",
       "    <tr>\n",
       "      <th>0</th>\n",
       "      <td>8</td>\n",
       "      <td>23</td>\n",
       "      <td>0</td>\n",
       "      <td>2</td>\n",
       "      <td>1</td>\n",
       "      <td>1</td>\n",
       "      <td>IXA211</td>\n",
       "    </tr>\n",
       "    <tr>\n",
       "      <th>1</th>\n",
       "      <td>15</td>\n",
       "      <td>17</td>\n",
       "      <td>9</td>\n",
       "      <td>7</td>\n",
       "      <td>7</td>\n",
       "      <td>8</td>\n",
       "      <td>PRJ778</td>\n",
       "    </tr>\n",
       "    <tr>\n",
       "      <th>2</th>\n",
       "      <td>7</td>\n",
       "      <td>14</td>\n",
       "      <td>22</td>\n",
       "      <td>1</td>\n",
       "      <td>6</td>\n",
       "      <td>7</td>\n",
       "      <td>HOW167</td>\n",
       "    </tr>\n",
       "    <tr>\n",
       "      <th>3</th>\n",
       "      <td>20</td>\n",
       "      <td>16</td>\n",
       "      <td>18</td>\n",
       "      <td>4</td>\n",
       "      <td>2</td>\n",
       "      <td>1</td>\n",
       "      <td>UQS421</td>\n",
       "    </tr>\n",
       "    <tr>\n",
       "      <th>4</th>\n",
       "      <td>4</td>\n",
       "      <td>13</td>\n",
       "      <td>5</td>\n",
       "      <td>4</td>\n",
       "      <td>0</td>\n",
       "      <td>8</td>\n",
       "      <td>ENF408</td>\n",
       "    </tr>\n",
       "  </tbody>\n",
       "</table>\n",
       "</div>"
      ],
      "text/plain": [
       "   L1  L2  L3  N1  N2  N3   PLACA\n",
       "0   8  23   0   2   1   1  IXA211\n",
       "1  15  17   9   7   7   8  PRJ778\n",
       "2   7  14  22   1   6   7  HOW167\n",
       "3  20  16  18   4   2   1  UQS421\n",
       "4   4  13   5   4   0   8  ENF408"
      ]
     },
     "execution_count": 22,
     "metadata": {},
     "output_type": "execute_result"
    }
   ],
   "source": [
    "placas_test[\"PLACA\"]  = pd.DataFrame(test_placa)\n",
    "placas_test.head()"
   ]
  },
  {
   "cell_type": "code",
   "execution_count": 23,
   "metadata": {},
   "outputs": [],
   "source": [
    "placas_test.to_csv(r'placas_test.csv')"
   ]
  },
  {
   "cell_type": "code",
   "execution_count": 24,
   "metadata": {},
   "outputs": [],
   "source": [
    "placas_train.to_csv(r'placas_train.csv')"
   ]
  },
  {
   "cell_type": "code",
   "execution_count": 31,
   "metadata": {},
   "outputs": [],
   "source": [
    "np.save(\"M_train_placa.npy\",train_bw )"
   ]
  },
  {
   "cell_type": "code",
   "execution_count": 32,
   "metadata": {},
   "outputs": [],
   "source": [
    "np.save(\"M_test_placa.npy\",test_bw )"
   ]
  },
  {
   "cell_type": "code",
   "execution_count": 33,
   "metadata": {},
   "outputs": [],
   "source": [
    "A = np.load(\"M_train_placa.npy\")"
   ]
  },
  {
   "cell_type": "code",
   "execution_count": 38,
   "metadata": {},
   "outputs": [
    {
     "data": {
      "text/plain": [
       "array([[  0,   0,   0, ...,   0,   0,   0],\n",
       "       [  0,   0,   0, ...,   0,   0,   0],\n",
       "       [  0,   0, 255, ..., 255,   0,   0],\n",
       "       ...,\n",
       "       [  0, 255, 255, ..., 255,   0,   0],\n",
       "       [  0,   0,   0, ...,   0,   0,   0],\n",
       "       [  0,   0,   0, ...,   0,   0,   0]], dtype=uint8)"
      ]
     },
     "execution_count": 38,
     "metadata": {},
     "output_type": "execute_result"
    }
   ],
   "source": [
    "A[0]"
   ]
  },
  {
   "cell_type": "code",
   "execution_count": 36,
   "metadata": {},
   "outputs": [
    {
     "data": {
      "text/plain": [
       "array([[  0,   0,   0, ...,   0,   0,   0],\n",
       "       [  0,   0,   0, ...,   0,   0,   0],\n",
       "       [  0,   0, 255, ..., 255,   0,   0],\n",
       "       ...,\n",
       "       [  0, 255, 255, ..., 255,   0,   0],\n",
       "       [  0,   0,   0, ...,   0,   0,   0],\n",
       "       [  0,   0,   0, ...,   0,   0,   0]], dtype=uint8)"
      ]
     },
     "execution_count": 36,
     "metadata": {},
     "output_type": "execute_result"
    }
   ],
   "source": [
    "train_bw[0]"
   ]
  },
  {
   "cell_type": "code",
   "execution_count": 4,
   "metadata": {
    "colab": {
     "base_uri": "https://localhost:8080/",
     "height": 35
    },
    "id": "Okl1nEskq1GC",
    "outputId": "61549006-3cfb-4d68-95d1-9428a7d29ef2"
   },
   "outputs": [
    {
     "data": {
      "text/plain": [
       "'EKA273'"
      ]
     },
     "execution_count": 4,
     "metadata": {},
     "output_type": "execute_result"
    }
   ],
   "source": [
    "train_placa[0] #Placa como string"
   ]
  },
  {
   "cell_type": "code",
   "execution_count": 5,
   "metadata": {
    "colab": {
     "base_uri": "https://localhost:8080/"
    },
    "id": "tFe5uVk3q0-q",
    "outputId": "6c6fad7a-42b2-400d-d945-34894fb8b8b0"
   },
   "outputs": [
    {
     "data": {
      "text/plain": [
       "[4, 10, 0, 2, 7, 3]"
      ]
     },
     "execution_count": 5,
     "metadata": {},
     "output_type": "execute_result"
    }
   ],
   "source": [
    "train_Nplaca[0] #Placa como número"
   ]
  },
  {
   "cell_type": "code",
   "execution_count": 6,
   "metadata": {
    "colab": {
     "base_uri": "https://localhost:8080/",
     "height": 225
    },
    "id": "HbRTUyyFrBL1",
    "outputId": "25a3b3e6-8cb7-4682-e645-061278d0f12e"
   },
   "outputs": [
    {
     "data": {
      "text/plain": [
       "<matplotlib.image.AxesImage at 0x7f6bc8410730>"
      ]
     },
     "execution_count": 6,
     "metadata": {},
     "output_type": "execute_result"
    },
    {
     "data": {
      "image/png": "[encoded data removed]",
      "text/plain": [
       "<Figure size 432x288 with 1 Axes>"
      ]
     },
     "metadata": {
      "needs_background": "light"
     },
     "output_type": "display_data"
    }
   ],
   "source": [
    "plt.imshow(train_bw[0], cmap='gray')#PLaca como imágen de bordes"
   ]
  },
  {
   "cell_type": "code",
   "execution_count": 7,
   "metadata": {
    "id": "lcrr6DPLMjCt"
   },
   "outputs": [],
   "source": [
    "def separa_letras(P_gris):\n",
    "  L0 = P_gris[30:125,15:75]\n",
    "  L1 = P_gris[30:125,75:135]\n",
    "  L2 = P_gris[30:125,135:200]\n",
    "  L3 = P_gris[30:125,200:260]\n",
    "  L4 = P_gris[30:125,265:325]\n",
    "  L5 = P_gris[30:125,330:390]\n",
    "  return L0,L1,L2,L3,L4,L5\n",
    "db_train  = []\n",
    "for t in range(len(train_bw)):\n",
    "  db_train.append(separa_letras(train_bw[t]))\n",
    "t = 0\n",
    "db_test  = []\n",
    "for t in range(len(train_bw)):\n",
    "  db_test.append(separa_letras(test_bw[0]))"
   ]
  },
  {
   "cell_type": "code",
   "execution_count": 8,
   "metadata": {
    "colab": {
     "base_uri": "https://localhost:8080/",
     "height": 1000
    },
    "id": "HjcMpznVE7U7",
    "outputId": "98ba0a53-15f6-400e-e312-47574951fa77"
   },
   "outputs": [
    {
     "data": {
      "image/png": "[encoded data removed]",
      "text/plain": [
       "<Figure size 432x288 with 1 Axes>"
      ]
     },
     "metadata": {
      "needs_background": "light"
     },
     "output_type": "display_data"
    },
    {
     "data": {
      "image/png": "[encoded data removed]",
      "text/plain": [
       "<Figure size 432x288 with 1 Axes>"
      ]
     },
     "metadata": {
      "needs_background": "light"
     },
     "output_type": "display_data"
    },
    {
     "data": {
      "image/png": "[encoded data removed]",
      "text/plain": [
       "<Figure size 432x288 with 1 Axes>"
      ]
     },
     "metadata": {
      "needs_background": "light"
     },
     "output_type": "display_data"
    },
    {
     "data": {
      "image/png": "[encoded data removed]",
      "text/plain": [
       "<Figure size 432x288 with 1 Axes>"
      ]
     },
     "metadata": {
      "needs_background": "light"
     },
     "output_type": "display_data"
    },
    {
     "data": {
      "image/png": "[encoded data removed]",
      "text/plain": [
       "<Figure size 432x288 with 1 Axes>"
      ]
     },
     "metadata": {
      "needs_background": "light"
     },
     "output_type": "display_data"
    },
    {
     "data": {
      "image/png": "[encoded data removed]",
      "text/plain": [
       "<Figure size 432x288 with 1 Axes>"
      ]
     },
     "metadata": {
      "needs_background": "light"
     },
     "output_type": "display_data"
    }
   ],
   "source": [
    "for i in range(len(db_train[1])): plt.imshow(db_train[1][i],'gray_r'); plt.show()"
   ]
  },
  {
   "cell_type": "code",
   "execution_count": null,
   "metadata": {
    "id": "g-5GyNjdVqrX"
   },
   "outputs": [],
   "source": [
    "X = []\n",
    "Y = []\n",
    "for i in range(len(letras_train)):\n",
    "  X.append(letras_train[i][5])\n",
    "  Y.append(train_Nplaca[i][5])"
   ]
  },
  {
   "cell_type": "code",
   "execution_count": null,
   "metadata": {
    "colab": {
     "base_uri": "https://localhost:8080/"
    },
    "id": "sagGgjMjaYHO",
    "outputId": "8861fb08-37f4-488a-d8d4-0ed71dea7e82"
   },
   "outputs": [],
   "source": [
    "Y[0]"
   ]
  },
  {
   "cell_type": "code",
   "execution_count": null,
   "metadata": {
    "colab": {
     "base_uri": "https://localhost:8080/",
     "height": 479
    },
    "id": "e65Z6N1KKgBd",
    "outputId": "69560dc9-392a-4f10-e714-68bdf7ab55b2"
   },
   "outputs": [],
   "source": [
    "from sklearn.tree import DecisionTreeClassifier\n",
    "\n",
    "YD = np.zeros([len(Y),1]) #Crea matriz vacía de una columna y tamaño de las muestras en fila\n",
    "i = 0\n",
    "for i in range(len(Y)): YD[i] = Y[i] #Paso arreglo columna a fila\n",
    "'''\n",
    "XD = np.zeros([len(X)]) #Crea matriz vacía de una columna y tamaño de las muestras en fila\n",
    "i = 0\n",
    "for i in range(len(X),1): XD[i] = X[i] #Paso arreglo columna a fila\n",
    "'''\n",
    "XD = np.array(X)\n",
    "tree = DecisionTreeClassifier(max_depth=10, random_state=42)\n",
    "tree.fit(XD,YD)"
   ]
  },
  {
   "cell_type": "code",
   "execution_count": null,
   "metadata": {
    "colab": {
     "base_uri": "https://localhost:8080/"
    },
    "id": "UstHbOHvXr5W",
    "outputId": "9f665d97-80b4-4550-a9f1-a89cebb6efd9"
   },
   "outputs": [],
   "source": [
    "YD[0]"
   ]
  },
  {
   "cell_type": "code",
   "execution_count": null,
   "metadata": {
    "colab": {
     "base_uri": "https://localhost:8080/",
     "height": 612
    },
    "id": "tfaxpR6hbLul",
    "outputId": "df18d2f9-90cf-45bb-fd54-0a2213ee201a"
   },
   "outputs": [],
   "source": [
    "plt.imshow(X)"
   ]
  },
  {
   "cell_type": "code",
   "execution_count": null,
   "metadata": {
    "colab": {
     "base_uri": "https://localhost:8080/",
     "height": 558
    },
    "id": "tBe5s9wsasDt",
    "outputId": "1b20e715-067a-41b8-e327-efce0766d501"
   },
   "outputs": [],
   "source": [
    "plt.imshow(db_train[0][5],'gray_r'); plt.show()"
   ]
  },
  {
   "cell_type": "code",
   "execution_count": null,
   "metadata": {
    "colab": {
     "base_uri": "https://localhost:8080/",
     "height": 268
    },
    "id": "h3X65cnCXydF",
    "outputId": "52656b62-b2b1-4959-aa47-f4f1b4300a11"
   },
   "outputs": [],
   "source": [
    "plt.imshow(db_train[0][5],'gray_r'); plt.show()"
   ]
  },
  {
   "cell_type": "code",
   "execution_count": null,
   "metadata": {
    "id": "uQuO1iq3HOqS"
   },
   "outputs": [],
   "source": [
    "import numpy as np\n",
    "np.random.seed(2)\n",
    "\n",
    "import matplotlib.pyplot as plt\n",
    "from keras.datasets import mnist\n",
    "from keras.utils import np_utils\n",
    "from keras.models import Sequential\n",
    "from keras.layers.convolutional import Conv2D, MaxPooling2D\n",
    "from keras.layers.core import Flatten, Dense\n",
    "from keras.optimizers import SGD\n"
   ]
  },
  {
   "cell_type": "code",
   "execution_count": null,
   "metadata": {
    "colab": {
     "base_uri": "https://localhost:8080/",
     "height": 180
    },
    "id": "PRNrkROPHcCO",
    "outputId": "b544b4bd-162d-4269-afb8-99534d508daa"
   },
   "outputs": [],
   "source": [
    "modelo = Sequential()\n",
    "modelo.add(Conv2D(filters=6, kernel_size=(5,5), activation='relu', input_shape=(28,28,1)))\n",
    "\n"
   ]
  },
  {
   "cell_type": "code",
   "execution_count": null,
   "metadata": {
    "colab": {
     "base_uri": "https://localhost:8080/"
    },
    "id": "9VjSyy9JMjFz",
    "outputId": "9c31c259-fdd8-4a8f-8aa1-c4692fd8a812"
   },
   "outputs": [],
   "source": [
    "YL1 = []\n",
    "for i in range(len(train_Nplaca)): YL1.append(train_Nplaca[i][0])\n",
    "YL1"
   ]
  },
  {
   "cell_type": "code",
   "execution_count": null,
   "metadata": {
    "colab": {
     "base_uri": "https://localhost:8080/",
     "height": 408
    },
    "id": "9fb5A0Z9MjI6",
    "outputId": "8c54439e-7614-4d84-8c41-5aaced2b4ffc"
   },
   "outputs": [],
   "source": [
    "from sklearn import svm\n",
    "from sklearn.ensemble import RandomForestClassifier\n",
    "classifier = RandomForestClassifier(n_estimators=100, bootstrap = True, verbose=2, max_features = 'sqrt')\n",
    "Pred= classifier.fit(train_bw,YL1)"
   ]
  },
  {
   "cell_type": "code",
   "execution_count": null,
   "metadata": {
    "id": "py5Y0hXfMjLz"
   },
   "outputs": [],
   "source": [
    "from sklearn.neural_network import MLPClassifier\n"
   ]
  },
  {
   "cell_type": "code",
   "execution_count": null,
   "metadata": {
    "id": "IsrGhdz1MjOa"
   },
   "outputs": [],
   "source": []
  },
  {
   "cell_type": "code",
   "execution_count": null,
   "metadata": {
    "id": "aDyVKw50MjQ7"
   },
   "outputs": [],
   "source": []
  },
  {
   "cell_type": "code",
   "execution_count": null,
   "metadata": {
    "id": "0C_qUi6xMjTs"
   },
   "outputs": [],
   "source": []
  },
  {
   "cell_type": "code",
   "execution_count": null,
   "metadata": {
    "id": "mLvOEHAmMjV6"
   },
   "outputs": [],
   "source": []
  },
  {
   "cell_type": "code",
   "execution_count": null,
   "metadata": {
    "id": "SbeQej9zWwp4"
   },
   "outputs": [],
   "source": [
    "bw= np.array(bw)\n",
    "bw.flags"
   ]
  },
  {
   "cell_type": "code",
   "execution_count": null,
   "metadata": {
    "id": "57fbv0Rb2Ur2"
   },
   "outputs": [],
   "source": [
    "'''\n",
    "plt.figure(figsize = (100,50))\n",
    "plt.subplot(1,6,i+1)\n",
    "plt.axis(\"off\")\n",
    "muest = cv2.cvtColor(bw[0], cv2.COLOR_BGR2RGB)#pasa de BGR, a RGB ó gris\n",
    "plt.imshow(muest)\n",
    "plt.subplots_adjust(wspace = 0.5) # espacio entre imagenes\n",
    "plt.show()\n",
    "print(\"Forma:{0}, min: {1}, max{2}\".format(muest.shape,muest.min(), muest.max()))\n",
    "#bw[0].shape# tamaño, y el ulmin número es el canal de colo\n",
    "'''"
   ]
  },
  {
   "cell_type": "code",
   "execution_count": null,
   "metadata": {
    "id": "CuWYzj_A1SUM"
   },
   "outputs": [],
   "source": [
    "bw.nbytes"
   ]
  },
  {
   "cell_type": "code",
   "execution_count": null,
   "metadata": {
    "id": "lDjl3wRW1VxE"
   },
   "outputs": [],
   "source": [
    "bw.itemsize"
   ]
  },
  {
   "cell_type": "code",
   "execution_count": null,
   "metadata": {
    "id": "ksiXmGlOiuZx"
   },
   "outputs": [],
   "source": []
  },
  {
   "cell_type": "code",
   "execution_count": null,
   "metadata": {
    "id": "a4wSgf5qyMir"
   },
   "outputs": [],
   "source": [
    "    cv2.imread(\"testing/0.jpg\")"
   ]
  },
  {
   "cell_type": "code",
   "execution_count": null,
   "metadata": {
    "id": "C2vttLIFuI9g"
   },
   "outputs": [],
   "source": [
    "    cv2.imread(\"testing/0.jpg\",0)"
   ]
  },
  {
   "cell_type": "code",
   "execution_count": null,
   "metadata": {
    "id": "WHKEllgtwKp6"
   },
   "outputs": [],
   "source": [
    "    cv2.imread(\"testing/0.jpg\",1)"
   ]
  },
  {
   "cell_type": "code",
   "execution_count": null,
   "metadata": {
    "id": "tr-yE0ZcyKKG"
   },
   "outputs": [],
   "source": []
  }
 ],
 "metadata": {
  "accelerator": "TPU",
  "colab": {
   "name": "Proy_IA_GG.ipynb",
   "provenance": []
  },
  "kernelspec": {
   "display_name": "Python 3",
   "language": "python",
   "name": "python3"
  },
  "language_info": {
   "codemirror_mode": {
    "name": "ipython",
    "version": 3
   },
   "file_extension": ".py",
   "mimetype": "text/x-python",
   "name": "python",
   "nbconvert_exporter": "python",
   "pygments_lexer": "ipython3",
   "version": "3.8.5"
  }
 },
 "nbformat": 4,
 "nbformat_minor": 4
}
